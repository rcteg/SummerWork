{
  "cells": [
    {
      "metadata": {
        "_uuid": "58335a1bb472e68aaddc32827fdb99d9d44e4ab2",
        "_cell_guid": "14c68aad-0435-454b-8bc7-6556f60b034e"
      },
      "cell_type": "markdown",
      "source": "# Method chaining workbook\n\n## Introduction\n\nThis is the workbook component of the \"Method chaining\" section of the tutorial. For the reference component, click [here](https://www.kaggle.com/residentmario/method-chaining-reference).\n\nThis is the last workbook in the tutorial. Congratulations! In this section we will put all of the things that we learned together to do some truly interesting things with some datasets. The exercises in this section are therefore also quite difficult! Try using method chaning syntax while working through the examples that follow, and make studious use of the hints that we provide."
    },
    {
      "metadata": {
        "collapsed": true,
        "_uuid": "a4f1f60fb1c5c7d744bc9089fc58b4be8d082947",
        "_cell_guid": "0559dd85-e762-4699-95d6-28840f18e910",
        "trusted": true
      },
      "cell_type": "code",
      "source": "import pandas as pd\npd.set_option('max_rows', 5)\nfrom learntools.advanced_pandas.method_chaining import *\n\nchess_games = pd.read_csv(\"../input/chess/games.csv\")",
      "execution_count": 2,
      "outputs": []
    },
    {
      "metadata": {
        "_uuid": "2477f759f3c11e964f50c583f211f6e324bad518",
        "_cell_guid": "3070c6b9-5ac4-4604-91f7-5fe9128ccfb2"
      },
      "cell_type": "markdown",
      "source": "# Checking Answers\n\n**Check your answers in each exercise using the  `check_qN` function** (replacing `N` with the number of the exercise). For example here's how you would check an incorrect answer to exercise 1:"
    },
    {
      "metadata": {
        "_uuid": "b8490e33adb514ab0bd4b92911fb4d1c9e018b51",
        "_cell_guid": "47ec828b-f315-4126-a534-5d0b5af6f973",
        "trusted": true,
        "collapsed": true
      },
      "cell_type": "code",
      "source": "check_q1(pd.DataFrame())",
      "execution_count": null,
      "outputs": []
    },
    {
      "metadata": {
        "_uuid": "dd23107bed53e3ab1ece7a091ed29d2dd826c6c5",
        "_cell_guid": "96b7eed1-d290-4da7-aeb0-92e7381e7db1"
      },
      "cell_type": "markdown",
      "source": "If you get stuck, **use the `answer_qN` function to see the code with the correct answer.**\n\nFor the first set of questions, running the `check_qN` on the correct answer returns `True`.\n\nFor the second set of questions, using this function to check a correct answer will present an informative graph."
    },
    {
      "metadata": {
        "_uuid": "76a8860fa325d3324028437fa4b6ec392e7a279e",
        "_cell_guid": "0d4748cd-9a43-4928-9ba3-9c42a4bfbb0d"
      },
      "cell_type": "markdown",
      "source": "## Exercises\n\nView your data by running the cell below"
    },
    {
      "metadata": {
        "_uuid": "34bb03034a84edb302cdb4bdff4854aa25a17dae",
        "_cell_guid": "543c4672-bc57-4fd4-9e70-9ccbf43fd4c0",
        "trusted": true,
        "collapsed": true
      },
      "cell_type": "code",
      "source": "chess_games.head()",
      "execution_count": null,
      "outputs": []
    },
    {
      "metadata": {
        "_uuid": "9404e800ee7ca838451d8f420fa23f828fbc06f1",
        "_cell_guid": "be821524-d37d-4128-9d72-105ad898cb48"
      },
      "cell_type": "markdown",
      "source": "**Exercise 1**: It's well-known that in the game of chess, white has a slight first-mover advantage against black. Can you measure this effect in this dataset? Use the `winner` column to create a `pandas` `Series` showing how often white wins, how often black wins, and how often the result is a tie, as a ratio of total games played. In other words, a `Series` that looks something like this:\n\n    white    0.48\n    black    0.44\n    draw     0.08\n    Name: winner, dtype: float64\n    \nHint: use `len` to get the length of the initial `DataFrame`, e.g. the count of all games played."
    },
    {
      "metadata": {
        "_uuid": "e06e76a60dea3fb40799c213167f2dbfde052cc9",
        "_cell_guid": "9a89d5ac-5294-4714-a02f-71aa02cb3b95",
        "trusted": true,
        "collapsed": true
      },
      "cell_type": "code",
      "source": "# Your code here\nprint(check_q1(chess_games.winner.dropna(axis = 'rows').value_counts().map(lambda d: d/chess_games.winner.count())))\nprint(chess_games.winner.dropna(axis = 'rows').value_counts().map(lambda d: d/chess_games.winner.count()))\nprint(chess_games.winner.value_counts() / len(chess_games))\nanswer_q1()\n",
      "execution_count": null,
      "outputs": []
    },
    {
      "metadata": {
        "_uuid": "0afa1a01f6339744f117e40bc564bb8199117fba",
        "_cell_guid": "9e7cc907-78c8-4771-8767-433b26a501fe"
      },
      "cell_type": "markdown",
      "source": "**Exercise 2**: The `opening_name` field of the `chess_games` dataset provides interesting data on what the most commonly used chess openings are.  However, it gives a bit _too_ much detail, including information on the variation used for the most common opening types. For example, rather than giving `Queen's Pawn Game`, the dataset often includes `Queen's Pawn Game: Zukertort Variation`.\n\nThis makes it a bit difficult to use for categorical purposes. Here's a function that can be used to separate out the \"opening archetype\":\n\n ```python\n lambda n: n.split(\":\")[0].split(\"|\")[0].split(\"#\")[0].strip()\n ```\n\nUse this function to parse the `opening_name` field and generate a `pandas` `Series` counting how many times each of the \"opening archetypes\" gets used. Hint: use a map."
    },
    {
      "metadata": {
        "_uuid": "0a87e4d43aacdbc602c45edebd2cbc17828a8215",
        "_cell_guid": "bec47114-46d5-4224-8fe8-a892672e087a",
        "trusted": true,
        "collapsed": true
      },
      "cell_type": "code",
      "source": "# Your code here\nanswer_q2()\ncheck_q2(chess_games.opening_name.map(lambda n: n.split(\":\")[0].split(\"|\")[0].split(\"#\")[0].strip()).value_counts())\n#chess_games.opening_name.map(lambda n: n.split(\":\")[0].split(\"|\")[0].split(\"#\")[0].strip()).value_counts()",
      "execution_count": null,
      "outputs": []
    },
    {
      "metadata": {
        "_uuid": "4c00c11c77310fbbb1d80c7ab0b9c2cec6a85d8c",
        "_cell_guid": "77d52589-e77b-4f2a-8368-b648542d7cfd"
      },
      "cell_type": "markdown",
      "source": "**Exercise 3**: In this dataset various players play variably number of games. Group the games by `{white_id, victory_status}` and count how many times each white player ended the game in `mate` , `draw`, `resign`, etcetera. The name of the column counting how many times each outcome occurred should be `n` (hint: `rename` or `assign` may help)."
    },
    {
      "metadata": {
        "_uuid": "4c1d624a0e13e0084618a0b07eee93a63e547c51",
        "_cell_guid": "5bf66581-b084-4759-95a0-5bcb3eb7add3",
        "trusted": true,
        "scrolled": false
      },
      "cell_type": "code",
      "source": "# Your code here\nanswer_q3()\nprint(chess_games.assign(n=0).groupby(['white_id', 'victory_status']).n.apply(len).reset_index())\ncheck_q3(chess_games.assign(n=0).groupby(['white_id', 'victory_status']).n.apply(len).reset_index())\ncheck_q3(chess_games.groupby(['white_id', 'victory_status']).size().reset_index().rename(columns ={0:'n'}))\nchess_games.groupby(['white_id', 'victory_status']).size().reset_index().rename(columns ={0:'n'})\n\n\n\n#reviews.rename(columns={'region_1':'region', 'region_2':'locale'})",
      "execution_count": 30,
      "outputs": [
        {
          "output_type": "stream",
          "text": "(chess_games\n    .assign(n=0)\n    .groupby(['white_id', 'victory_status'])\n    .n\n    .apply(len)\n    .reset_index()\n)\n                  white_id victory_status  n\n0                  --jim--           mate  1\n1      -l-_jedi_knight_-l-           mate  1\n...                    ...            ... ..\n11487               zzzbbb         resign  1\n11488              zzzimon         resign  1\n\n[11489 rows x 3 columns]\n",
          "name": "stdout"
        },
        {
          "output_type": "execute_result",
          "execution_count": 30,
          "data": {
            "text/plain": "                  white_id victory_status  n\n0                  --jim--           mate  1\n1      -l-_jedi_knight_-l-           mate  1\n...                    ...            ... ..\n11487               zzzbbb         resign  1\n11488              zzzimon         resign  1\n\n[11489 rows x 3 columns]",
            "text/html": "<div>\n<style scoped>\n    .dataframe tbody tr th:only-of-type {\n        vertical-align: middle;\n    }\n\n    .dataframe tbody tr th {\n        vertical-align: top;\n    }\n\n    .dataframe thead th {\n        text-align: right;\n    }\n</style>\n<table border=\"1\" class=\"dataframe\">\n  <thead>\n    <tr style=\"text-align: right;\">\n      <th></th>\n      <th>white_id</th>\n      <th>victory_status</th>\n      <th>n</th>\n    </tr>\n  </thead>\n  <tbody>\n    <tr>\n      <th>0</th>\n      <td>--jim--</td>\n      <td>mate</td>\n      <td>1</td>\n    </tr>\n    <tr>\n      <th>1</th>\n      <td>-l-_jedi_knight_-l-</td>\n      <td>mate</td>\n      <td>1</td>\n    </tr>\n    <tr>\n      <th>...</th>\n      <td>...</td>\n      <td>...</td>\n      <td>...</td>\n    </tr>\n    <tr>\n      <th>11487</th>\n      <td>zzzbbb</td>\n      <td>resign</td>\n      <td>1</td>\n    </tr>\n    <tr>\n      <th>11488</th>\n      <td>zzzimon</td>\n      <td>resign</td>\n      <td>1</td>\n    </tr>\n  </tbody>\n</table>\n<p>11489 rows × 3 columns</p>\n</div>"
          },
          "metadata": {}
        }
      ]
    },
    {
      "metadata": {
        "_uuid": "d8270a4063738d6a9cfc1f475e0b5b94e36689a2",
        "_cell_guid": "fbb9dbed-4013-43d2-aa6a-23b4b3553e41"
      },
      "cell_type": "markdown",
      "source": "**Exercise 4**: There are a lot of players in the dataset who have only played one or a small handful of games. Create a `DataFrame` like the one in the previous exercise, but only include users who are in the top 20 users by number of games played. See if you can do this using method chaining alone! Hint: reuse the code from the previous example. Then, use `pipe`."
    },
    {
      "metadata": {
        "_uuid": "94205b5e1b027801f096d329be50202c6c25e48c",
        "_cell_guid": "a1174d88-e96a-4045-880d-9b7cf23a2ebf",
        "trusted": true,
        "scrolled": false
      },
      "cell_type": "code",
      "source": "# Your code here\n\nprint(chess_games\n     .groupby(['white_id', 'victory_status'])\n     .size()\n     .reset_index()\n     .rename(columns={0:'n'})\n     .pipe(lambda df: df[df.white_id.isin(chess_games.white_id.value_counts().head(20).index)])\n)#i got stuck here and just gave up, unsure how this works exactly\n #Okay I woke up and now this makes more sense: We have our DataFrame that we are passing it that has a numerical index and 3 columns (white_id, victory_status, \n #number of games). We pass it into pipe which applies a method to it (in this case a lambda).\n #Step 1: (in the middle) We take the entire dataset and take only the white_id column. We then take the count of every value we find, essentially finding how many games\n #each person is part of. \n #Step 2: We take the top 20 values (it is automatically sorted by descending) and take the indices (names) of each of the top 20 players by games played.\nprint(chess_games.white_id.value_counts().head(20).index)\n #Step 3: Now we take our edited dataframe with the 3 columns, and take only the white_id column, then check to see what values of our column are in this list of indice, or\n #        essentially only the rows that are played by one of these 20 people.\n #        This makes a boolean DataFrame in the same size and shape as our current array, where True is if the value had one of the top 20 players, and False is if it did not.\nprint(chess_games.groupby(['white_id', 'victory_status']).size().reset_index().rename(columns={0:'n'}).white_id.isin(chess_games.white_id.value_counts().head(20).index))\n #Step 4:Finally, we take our current dataframe and only select the values that match up with True in this boolean DataFrame\n\n\n\n\n",
      "execution_count": 51,
      "outputs": [
        {
          "output_type": "stream",
          "text": "         white_id victory_status   n\n9      1240100948           draw   3\n10     1240100948           mate   7\n...           ...            ...  ..\n10907    vovkakuz      outoftime   4\n10908    vovkakuz         resign  23\n\n[72 rows x 3 columns]\nIndex(['taranga', 'chess-brahs', 'a_p_t_e_m_u_u', 'bleda', 'ssf7',\n       'hassan1365416', 'khelil', 'saviter', '1240100948', 'anakgreget',\n       'ozguragarr', 'ivanbus', 'vladimir-kramnik-1', 'vovkakuz', 'king5891',\n       'thegrim123321', 'mastersalomon', 'islam01', 'ozil17', 'artem555'],\n      dtype='object')\n0        False\n1        False\n         ...  \n11487    False\n11488    False\nName: white_id, Length: 11489, dtype: bool\n",
          "name": "stdout"
        }
      ]
    },
    {
      "metadata": {
        "_uuid": "c28a91527be0920116c8bf017a766fd28bf3343c",
        "_cell_guid": "bd59912b-744e-4d7b-8f86-e787d7121d46"
      },
      "cell_type": "markdown",
      "source": "Next, let's do some visual exercises.\n\nThe next exercise uses the following dataset:"
    },
    {
      "metadata": {
        "collapsed": true,
        "_uuid": "96a82b2ab00aeeb1c69806201713de3ab31c64e2",
        "_cell_guid": "f5ac1f2a-4bc5-4c6a-9e77-9f1836aa9f27",
        "trusted": false
      },
      "cell_type": "code",
      "source": "kepler = pd.read_csv(\"../input/kepler-exoplanet-search-results/cumulative.csv\")\nkepler",
      "execution_count": null,
      "outputs": []
    },
    {
      "metadata": {
        "_uuid": "4e97a338fe718b61703699a4f6b8e81c238f63b6",
        "_cell_guid": "ed30c948-bf7d-4014-b46e-e6764b32887c"
      },
      "cell_type": "markdown",
      "source": "**Exercise 5**: The Kepler space observatory is in the business of finding potential exoplanets (planets orbiting stars other suns) and, after collecting the evidence, generating whether or not to confirm, decline to confirm, or deny that a given space body is, in fact, an exoplanet. In the dataset above, the \"before\" status of the body is `koi_pdisposition`, and the \"after\" status is `koi_disposition`. \n\nUsing the dataset above, generate a `Series` counting all of the possible transitions between pre-disposition and post-disposition. In other words, generate a `Series` whose index is a `MultiIndex` based on the `{koi_pdisposition, koi_disposition}` fields, and whose values is a count of how many times each possible combination occurred."
    },
    {
      "metadata": {
        "_uuid": "04f4696abbce980b6c265715ce6af24c055f837a",
        "_cell_guid": "c7f220fc-638f-49e8-bd4d-52e14e451ce7",
        "trusted": true
      },
      "cell_type": "code",
      "source": "# Your code here\nkepler.columns\nprint(kepler.groupby(['koi_pdisposition', 'koi_disposition']).size())\nkepler.assign(n=0).groupby(['koi_pdisposition', 'koi_disposition']).n.count().reset_index()\n",
      "execution_count": 65,
      "outputs": [
        {
          "output_type": "stream",
          "text": "koi_pdisposition  koi_disposition\nCANDIDATE         CANDIDATE          2248\n                  CONFIRMED          2248\nFALSE POSITIVE    CONFIRMED            45\n                  FALSE POSITIVE     5023\ndtype: int64\n",
          "name": "stdout"
        },
        {
          "output_type": "execute_result",
          "execution_count": 65,
          "data": {
            "text/plain": "  koi_pdisposition koi_disposition     n\n0        CANDIDATE       CANDIDATE  2248\n1        CANDIDATE       CONFIRMED  2248\n2   FALSE POSITIVE       CONFIRMED    45\n3   FALSE POSITIVE  FALSE POSITIVE  5023",
            "text/html": "<div>\n<style scoped>\n    .dataframe tbody tr th:only-of-type {\n        vertical-align: middle;\n    }\n\n    .dataframe tbody tr th {\n        vertical-align: top;\n    }\n\n    .dataframe thead th {\n        text-align: right;\n    }\n</style>\n<table border=\"1\" class=\"dataframe\">\n  <thead>\n    <tr style=\"text-align: right;\">\n      <th></th>\n      <th>koi_pdisposition</th>\n      <th>koi_disposition</th>\n      <th>n</th>\n    </tr>\n  </thead>\n  <tbody>\n    <tr>\n      <th>0</th>\n      <td>CANDIDATE</td>\n      <td>CANDIDATE</td>\n      <td>2248</td>\n    </tr>\n    <tr>\n      <th>1</th>\n      <td>CANDIDATE</td>\n      <td>CONFIRMED</td>\n      <td>2248</td>\n    </tr>\n    <tr>\n      <th>2</th>\n      <td>FALSE POSITIVE</td>\n      <td>CONFIRMED</td>\n      <td>45</td>\n    </tr>\n    <tr>\n      <th>3</th>\n      <td>FALSE POSITIVE</td>\n      <td>FALSE POSITIVE</td>\n      <td>5023</td>\n    </tr>\n  </tbody>\n</table>\n</div>"
          },
          "metadata": {}
        }
      ]
    },
    {
      "metadata": {
        "collapsed": true,
        "_uuid": "ceececcbd0f41b807d173ced0672320933cfa99c",
        "_cell_guid": "7225ca0a-2fa8-4bd2-b286-2731bdac0982"
      },
      "cell_type": "markdown",
      "source": "The next few exercises use the following datasets:"
    },
    {
      "metadata": {
        "collapsed": true,
        "_uuid": "c776c108c02cce4fd1152b6330ccdac899ce8b55",
        "_cell_guid": "fda2b4e8-08e2-44b0-abc9-2160e63e64bc",
        "trusted": false
      },
      "cell_type": "code",
      "source": "wine_reviews = pd.read_csv(\"../input/wine-reviews/winemag-data-130k-v2.csv\", index_col=0)\nramen_reviews = pd.read_csv(\"../input/ramen-ratings/ramen-ratings.csv\", index_col=0)\nprint(wine_reviews.head())\nprint(ramen_reviews.head())",
      "execution_count": null,
      "outputs": []
    },
    {
      "metadata": {
        "_uuid": "a26f10615034d4bd565f56764bf7a62b4ff0544e",
        "_cell_guid": "c8eae2c9-5dad-4969-8250-8738f763a909"
      },
      "cell_type": "markdown",
      "source": "**Exercise 6**: As we demonstrated in previous workbooks, the `points` column in the `wine_reviews` dataset is measured on a 20-point scale between 80 and 100. Create a `Series` which normalizes the ratings so that they fit on a 1-to-5 scale instead (e.g. a score of 80 translates to 1 star, while a score of 100 is five stars). Set the `Series` name to \"Wine Ratings\", and sort by index value (ascending)."
    },
    {
      "metadata": {
        "_uuid": "b694074c3711bf9be8eafa45a0d48b3478afe257",
        "_cell_guid": "54717874-8186-4b2b-bd5e-2f2883d1ab8e",
        "trusted": true
      },
      "cell_type": "code",
      "source": "# Your code here\nprint(wine_reviews.points)\nprint(((wine_reviews.points.dropna()-80)/4).rename('Wine Ratings').sort_index()) \n#this should be right given what they tell you but the 'actual' answer wants value_counts??\ncheck_q6(((wine_reviews.points.dropna()-80)/4).rename('Wine Ratings').value_counts().sort_index()) \n#answer_q6()\n",
      "execution_count": 106,
      "outputs": [
        {
          "output_type": "stream",
          "text": "0         87\n1         87\n          ..\n129969    90\n129970    90\nName: points, Length: 129971, dtype: int64\n0         1.75\n1         1.75\n          ... \n129969    2.50\n129970    2.50\nName: Wine Ratings, Length: 129971, dtype: float64\n",
          "name": "stdout"
        },
        {
          "output_type": "execute_result",
          "execution_count": 106,
          "data": {
            "text/plain": "<matplotlib.axes._subplots.AxesSubplot at 0x7f6fc9161e48>"
          },
          "metadata": {}
        },
        {
          "output_type": "display_data",
          "data": {
            "text/plain": "<matplotlib.figure.Figure at 0x7f6fc8343550>",
            "image/png": "[encoded data removed]"
          },
          "metadata": {}
        }
      ]
    },
    {
      "metadata": {
        "_uuid": "b1d5ffc806de05d79260977923dba80468db7c79",
        "_cell_guid": "0e73353b-5091-43c3-83db-50e8b9e42759"
      },
      "cell_type": "markdown",
      "source": "**Exercise 7**: The `Stars` column in the `ramen_reviews` dataset is the ramen equivalent to the similar data points in `wine_reviews`. Luckily it is already on a 0-to-5 scale, but it has some different problems...create a `Series` counting how many ramens earned each of the possible scores in the dataset. Convert the `Series` to the `float64` dtype and drop rames whose rating is `\"Unrated\"`. Set the name of the `Series` to \"Ramen Ratings\". Sort by index value (ascending)."
    },
    {
      "metadata": {
        "_uuid": "85c2e6a18fcaabadaaa89ee3cb634db5e5e1a2e3",
        "_cell_guid": "1c591a14-c68c-42de-bcd8-04c2317571b2",
        "trusted": true
      },
      "cell_type": "code",
      "source": "# Your code here\ncheck_q7(ramen_reviews\n     .Stars.replace('Unrated', None)\n     .dropna().astype('float64')\n     .value_counts()\n     .rename_axis('Ramen Ratings')\n     .sort_index()\n)",
      "execution_count": 123,
      "outputs": [
        {
          "output_type": "execute_result",
          "execution_count": 123,
          "data": {
            "text/plain": "<matplotlib.axes._subplots.AxesSubplot at 0x7f6fc8734898>"
          },
          "metadata": {}
        },
        {
          "output_type": "display_data",
          "data": {
            "text/plain": "<matplotlib.figure.Figure at 0x7f6fc8796eb8>",
            "image/png": "[encoded data removed]"
          },
          "metadata": {}
        }
      ]
    },
    {
      "metadata": {
        "collapsed": true,
        "_uuid": "a80054f5a7bfa75c7bfbeacc65a480837291ab1d",
        "_cell_guid": "0cba2cab-5315-4a3c-b1f4-8f07da6901a4"
      },
      "cell_type": "markdown",
      "source": "**Exercise 8:**: We can see from the result of the previous exercise that whilst the wine reviewers stick to a strict 20-point scale, ramen reviews occassionally deviate into fractional numbers. Modify your answer to the previous exercise by rounding review scores to the nearest half-point (so 0, 0.5, 1, 1.5, 2, 2.5, 3, 3.5, 4, 4.5, or 5)."
    },
    {
      "metadata": {
        "_uuid": "b27106dfbd02957b9257e4d11066e8ac16701c87",
        "_cell_guid": "f9e20b2c-4e22-44bf-9693-5ad7de555b9f",
        "trusted": true
      },
      "cell_type": "code",
      "source": "# Your code here\ncheck_q8(ramen_reviews\n     .Stars.replace('Unrated', None)\n     .dropna().astype('float64')\n     .map(lambda p: round(p*2, 0)/2)\n     .value_counts()\n     .rename_axis('Ramen Ratings')\n     .sort_index()\n     \n)",
      "execution_count": 141,
      "outputs": [
        {
          "output_type": "execute_result",
          "execution_count": 141,
          "data": {
            "text/plain": "<matplotlib.axes._subplots.AxesSubplot at 0x7f6fc86884a8>"
          },
          "metadata": {}
        },
        {
          "output_type": "display_data",
          "data": {
            "text/plain": "<matplotlib.figure.Figure at 0x7f6fc861cfd0>",
            "image/png": "[encoded data removed]"
          },
          "metadata": {}
        }
      ]
    },
    {
      "metadata": {
        "_uuid": "b625a31d8580c32b17db77ef838c6dbe9de5eb23",
        "_cell_guid": "a82d9542-13c4-42b7-a71d-d02682947216"
      },
      "cell_type": "markdown",
      "source": "# Congratulations\n\nYou've finished the Pandas track.  Many data scientist feel efficiency with Pandas is the most useful and practical skill they have, because it allows you to progress quickly in any project you have.\n\nYou can take advantage of your Pandas skills by entering a [Kaggle Competition](https://www.kaggle.com/competitions) or answering a question you find interesting using [Kaggle Datasets](https://www.kaggle.com/datasets)."
    }
  ],
  "metadata": {
    "language_info": {
      "name": "python",
      "version": "3.6.6",
      "mimetype": "text/x-python",
      "codemirror_mode": {
        "name": "ipython",
        "version": 3
      },
      "pygments_lexer": "ipython3",
      "nbconvert_exporter": "python",
      "file_extension": ".py"
    },
    "kernelspec": {
      "display_name": "Python 3",
      "language": "python",
      "name": "python3"
    }
  },
  "nbformat": 4,
  "nbformat_minor": 1
}